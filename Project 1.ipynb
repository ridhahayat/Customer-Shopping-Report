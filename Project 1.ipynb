{
 "cells": [
  {
   "cell_type": "markdown",
   "id": "321d7aa9",
   "metadata": {},
   "source": [
    "# **Customer Shopping Report**"
   ]
  },
  {
   "cell_type": "markdown",
   "id": "a87497cc",
   "metadata": {},
   "source": [
    "## **Business Understanding**\n",
    "\n",
    "### Tujuan Bisnis:\n",
    "Perusahaan ritel ingin memahami perilaku konsumen dan pola pembelian untuk meningkatkan strategi pemasaran, mengoptimalkan penempatan produk di berbagai kategori, serta meningkatkan efisiensi operasional. Dengan menganalisis data transaksi pelanggan, manajemen berharap dapat:\n",
    "\n",
    "- Mengetahui **kategori produk** yang paling banyak menghasilkan pendapatan.\n",
    "- Mengidentifikasi **pola belanja berdasarkan waktu** (musiman, bulanan).\n",
    "- Menganalisis **perbedaan perilaku belanja antar gender dan usia**.\n",
    "- Menentukan **shopping mall dengan kinerja terbaik**.\n",
    "- Mengevaluasi efektivitas **metode pembayaran** yang tersedia.\n",
    "\n",
    "Dengan informasi tersebut, perusahaan dapat mengambil keputusan yang lebih tepat dalam hal pengelolaan inventaris, penargetan promosi, dan strategi penjualan lintas kanal.\n",
    "\n",
    "---\n",
    "\n",
    "## **Problem Statement**\n",
    "\n",
    "Dalam industri ritel yang sangat kompetitif, pemahaman yang baik terhadap perilaku pelanggan menjadi kunci keberhasilan bisnis. Perusahaan sering kali menghadapi tantangan berikut:\n",
    "\n",
    "1. **Kurangnya pemahaman terhadap produk yang paling menguntungkan**  \n",
    "   Banyak perusahaan gagal mengidentifikasi produk atau kategori mana yang benar-benar memberikan kontribusi besar terhadap pendapatan.\n",
    "\n",
    "2. **Minimnya segmentasi pelanggan berdasarkan demografi dan preferensi**  \n",
    "   Tanpa analisis berbasis data, strategi pemasaran menjadi kurang tepat sasaran.\n",
    "\n",
    "3. **Ketidaktahuan terhadap tren penjualan musiman atau waktu puncak transaksi**  \n",
    "   Tanpa mengetahui tren waktu, perusahaan tidak dapat mempersiapkan stok atau promosi dengan optimal.\n",
    "\n",
    "4. **Tidak meratanya performa antar lokasi shopping mall**  \n",
    "   Beberapa lokasi mungkin berkinerja buruk tanpa diketahui sebabnya, padahal ini bisa diatasi dengan pendekatan berbasis data.\n",
    "\n",
    "5. **Kurangnya evaluasi atas preferensi metode pembayaran**  \n",
    "   Pemahaman terhadap preferensi metode pembayaran sangat penting untuk meningkatkan pengalaman pelanggan.\n",
    "\n",
    "---\n",
    "\n",
    "### Rumusan Masalah:\n",
    "\n",
    "- Produk atau kategori apa yang paling banyak memberikan kontribusi terhadap total pendapatan?\n",
    "- Bagaimana pola pembelian pelanggan berdasarkan waktu dan demografi (gender, usia)?\n",
    "- Mall mana saja yang menunjukkan performa penjualan terbaik?\n",
    "- Metode pembayaran apa yang paling sering digunakan oleh pelanggan?\n"
   ]
  },
  {
   "cell_type": "markdown",
   "id": "630697bd",
   "metadata": {},
   "source": [
    "## **Data Understanding**"
   ]
  },
  {
   "cell_type": "code",
   "execution_count": 1,
   "id": "8824e299",
   "metadata": {},
   "outputs": [],
   "source": [
    "import pandas as pd\n",
    "import numpy as np\n",
    "import matplotlib.pyplot as plt\n",
    "import seaborn as sns\n",
    "import warnings\n",
    "warnings.filterwarnings('ignore')\n",
    "\n",
    "pd.set_option('display.max.columns', None)\n",
    "\n",
    "pd.set_option('display.float.format', '{:.2f}'.format)"
   ]
  },
  {
   "cell_type": "code",
   "execution_count": 2,
   "id": "0094f2c6",
   "metadata": {},
   "outputs": [
    {
     "data": {
      "text/html": [
       "<div>\n",
       "<style scoped>\n",
       "    .dataframe tbody tr th:only-of-type {\n",
       "        vertical-align: middle;\n",
       "    }\n",
       "\n",
       "    .dataframe tbody tr th {\n",
       "        vertical-align: top;\n",
       "    }\n",
       "\n",
       "    .dataframe thead th {\n",
       "        text-align: right;\n",
       "    }\n",
       "</style>\n",
       "<table border=\"1\" class=\"dataframe\">\n",
       "  <thead>\n",
       "    <tr style=\"text-align: right;\">\n",
       "      <th></th>\n",
       "      <th>invoice_no</th>\n",
       "      <th>customer_id</th>\n",
       "      <th>gender</th>\n",
       "      <th>age</th>\n",
       "      <th>category</th>\n",
       "      <th>quantity</th>\n",
       "      <th>price</th>\n",
       "      <th>payment_method</th>\n",
       "      <th>invoice_date</th>\n",
       "      <th>shopping_mall</th>\n",
       "    </tr>\n",
       "  </thead>\n",
       "  <tbody>\n",
       "    <tr>\n",
       "      <th>0</th>\n",
       "      <td>I138884</td>\n",
       "      <td>C241288</td>\n",
       "      <td>Female</td>\n",
       "      <td>28</td>\n",
       "      <td>Clothing</td>\n",
       "      <td>5</td>\n",
       "      <td>1500.40</td>\n",
       "      <td>Credit Card</td>\n",
       "      <td>5/8/2022</td>\n",
       "      <td>Kanyon</td>\n",
       "    </tr>\n",
       "    <tr>\n",
       "      <th>1</th>\n",
       "      <td>I317333</td>\n",
       "      <td>C111565</td>\n",
       "      <td>Male</td>\n",
       "      <td>21</td>\n",
       "      <td>Shoes</td>\n",
       "      <td>3</td>\n",
       "      <td>1800.51</td>\n",
       "      <td>Debit Card</td>\n",
       "      <td>12/12/2021</td>\n",
       "      <td>Forum Istanbul</td>\n",
       "    </tr>\n",
       "    <tr>\n",
       "      <th>2</th>\n",
       "      <td>I127801</td>\n",
       "      <td>C266599</td>\n",
       "      <td>Male</td>\n",
       "      <td>20</td>\n",
       "      <td>Clothing</td>\n",
       "      <td>1</td>\n",
       "      <td>300.08</td>\n",
       "      <td>Cash</td>\n",
       "      <td>9/11/2021</td>\n",
       "      <td>Metrocity</td>\n",
       "    </tr>\n",
       "    <tr>\n",
       "      <th>3</th>\n",
       "      <td>I173702</td>\n",
       "      <td>C988172</td>\n",
       "      <td>Female</td>\n",
       "      <td>66</td>\n",
       "      <td>Shoes</td>\n",
       "      <td>5</td>\n",
       "      <td>3000.85</td>\n",
       "      <td>Credit Card</td>\n",
       "      <td>16/05/2021</td>\n",
       "      <td>Metropol AVM</td>\n",
       "    </tr>\n",
       "    <tr>\n",
       "      <th>4</th>\n",
       "      <td>I337046</td>\n",
       "      <td>C189076</td>\n",
       "      <td>Female</td>\n",
       "      <td>53</td>\n",
       "      <td>Books</td>\n",
       "      <td>4</td>\n",
       "      <td>60.60</td>\n",
       "      <td>Cash</td>\n",
       "      <td>24/10/2021</td>\n",
       "      <td>Kanyon</td>\n",
       "    </tr>\n",
       "    <tr>\n",
       "      <th>...</th>\n",
       "      <td>...</td>\n",
       "      <td>...</td>\n",
       "      <td>...</td>\n",
       "      <td>...</td>\n",
       "      <td>...</td>\n",
       "      <td>...</td>\n",
       "      <td>...</td>\n",
       "      <td>...</td>\n",
       "      <td>...</td>\n",
       "      <td>...</td>\n",
       "    </tr>\n",
       "    <tr>\n",
       "      <th>99452</th>\n",
       "      <td>I219422</td>\n",
       "      <td>C441542</td>\n",
       "      <td>Female</td>\n",
       "      <td>45</td>\n",
       "      <td>Souvenir</td>\n",
       "      <td>5</td>\n",
       "      <td>58.65</td>\n",
       "      <td>Credit Card</td>\n",
       "      <td>21/09/2022</td>\n",
       "      <td>Kanyon</td>\n",
       "    </tr>\n",
       "    <tr>\n",
       "      <th>99453</th>\n",
       "      <td>I325143</td>\n",
       "      <td>C569580</td>\n",
       "      <td>Male</td>\n",
       "      <td>27</td>\n",
       "      <td>Food &amp; Beverage</td>\n",
       "      <td>2</td>\n",
       "      <td>10.46</td>\n",
       "      <td>Cash</td>\n",
       "      <td>22/09/2021</td>\n",
       "      <td>Forum Istanbul</td>\n",
       "    </tr>\n",
       "    <tr>\n",
       "      <th>99454</th>\n",
       "      <td>I824010</td>\n",
       "      <td>C103292</td>\n",
       "      <td>Male</td>\n",
       "      <td>63</td>\n",
       "      <td>Food &amp; Beverage</td>\n",
       "      <td>2</td>\n",
       "      <td>10.46</td>\n",
       "      <td>Debit Card</td>\n",
       "      <td>28/03/2021</td>\n",
       "      <td>Metrocity</td>\n",
       "    </tr>\n",
       "    <tr>\n",
       "      <th>99455</th>\n",
       "      <td>I702964</td>\n",
       "      <td>C800631</td>\n",
       "      <td>Male</td>\n",
       "      <td>56</td>\n",
       "      <td>Technology</td>\n",
       "      <td>4</td>\n",
       "      <td>4200.00</td>\n",
       "      <td>Cash</td>\n",
       "      <td>16/03/2021</td>\n",
       "      <td>Istinye Park</td>\n",
       "    </tr>\n",
       "    <tr>\n",
       "      <th>99456</th>\n",
       "      <td>I232867</td>\n",
       "      <td>C273973</td>\n",
       "      <td>Female</td>\n",
       "      <td>36</td>\n",
       "      <td>Souvenir</td>\n",
       "      <td>3</td>\n",
       "      <td>35.19</td>\n",
       "      <td>Credit Card</td>\n",
       "      <td>15/10/2022</td>\n",
       "      <td>Mall of Istanbul</td>\n",
       "    </tr>\n",
       "  </tbody>\n",
       "</table>\n",
       "<p>99457 rows × 10 columns</p>\n",
       "</div>"
      ],
      "text/plain": [
       "      invoice_no customer_id  gender  age         category  quantity   price  \\\n",
       "0        I138884     C241288  Female   28         Clothing         5 1500.40   \n",
       "1        I317333     C111565    Male   21            Shoes         3 1800.51   \n",
       "2        I127801     C266599    Male   20         Clothing         1  300.08   \n",
       "3        I173702     C988172  Female   66            Shoes         5 3000.85   \n",
       "4        I337046     C189076  Female   53            Books         4   60.60   \n",
       "...          ...         ...     ...  ...              ...       ...     ...   \n",
       "99452    I219422     C441542  Female   45         Souvenir         5   58.65   \n",
       "99453    I325143     C569580    Male   27  Food & Beverage         2   10.46   \n",
       "99454    I824010     C103292    Male   63  Food & Beverage         2   10.46   \n",
       "99455    I702964     C800631    Male   56       Technology         4 4200.00   \n",
       "99456    I232867     C273973  Female   36         Souvenir         3   35.19   \n",
       "\n",
       "      payment_method invoice_date     shopping_mall  \n",
       "0        Credit Card     5/8/2022            Kanyon  \n",
       "1         Debit Card   12/12/2021    Forum Istanbul  \n",
       "2               Cash    9/11/2021         Metrocity  \n",
       "3        Credit Card   16/05/2021      Metropol AVM  \n",
       "4               Cash   24/10/2021            Kanyon  \n",
       "...              ...          ...               ...  \n",
       "99452    Credit Card   21/09/2022            Kanyon  \n",
       "99453           Cash   22/09/2021    Forum Istanbul  \n",
       "99454     Debit Card   28/03/2021         Metrocity  \n",
       "99455           Cash   16/03/2021      Istinye Park  \n",
       "99456    Credit Card   15/10/2022  Mall of Istanbul  \n",
       "\n",
       "[99457 rows x 10 columns]"
      ]
     },
     "execution_count": 2,
     "metadata": {},
     "output_type": "execute_result"
    }
   ],
   "source": [
    "df = pd.read_csv('customer_shopping_data.csv')\n",
    "df"
   ]
  },
  {
   "cell_type": "markdown",
   "id": "270c2c61",
   "metadata": {},
   "source": [
    "###  **Data Source**\n",
    "\n",
    "| Nama Kolom      | Tipe Data | Deskripsi                                                    |\n",
    "| --------------- | --------- | ------------------------------------------------------------ |\n",
    "| `Invoice ID`    | Object    | ID unik untuk setiap transaksi pembelian                     |\n",
    "| `Branch`        | Object    | Lokasi toko tempat transaksi dilakukan (misal: A, B, atau C) |\n",
    "| `Customer Type` | Object    | Jenis pelanggan: Member atau Normal                          |\n",
    "| `Gender`        | Object    | Jenis kelamin pelanggan (Male / Female)                      |\n",
    "| `Product Line`  | Object    | Kategori produk yang dibeli                                  |\n",
    "| `Unit Price`    | Float     | Harga satuan dari produk yang dibeli                         |\n",
    "| `Quantity`      | Integer   | Jumlah unit produk yang dibeli                               |\n",
    "| `Tax`           | Float     | Pajak 5% dari subtotal pembelian                             |\n",
    "| `Total`         | Float     | Total pembayaran setelah pajak (Subtotal + Pajak)            |\n",
    "| `Date`          | Object    | Tanggal transaksi                                            |\n",
    "| `Time`          | Object    | Waktu transaksi                                              |\n",
    "| `Payment`       | Object    | Metode pembayaran (misal: Cash, Credit Card, Ewallet)        |\n",
    "| `Rating`        | Float     | Penilaian pelanggan terhadap pengalaman belanja (skala 1–10) |\n"
   ]
  },
  {
   "cell_type": "code",
   "execution_count": 3,
   "id": "d50fb59f",
   "metadata": {},
   "outputs": [
    {
     "data": {
      "text/html": [
       "<div>\n",
       "<style scoped>\n",
       "    .dataframe tbody tr th:only-of-type {\n",
       "        vertical-align: middle;\n",
       "    }\n",
       "\n",
       "    .dataframe tbody tr th {\n",
       "        vertical-align: top;\n",
       "    }\n",
       "\n",
       "    .dataframe thead th {\n",
       "        text-align: right;\n",
       "    }\n",
       "</style>\n",
       "<table border=\"1\" class=\"dataframe\">\n",
       "  <thead>\n",
       "    <tr style=\"text-align: right;\">\n",
       "      <th></th>\n",
       "      <th>Nama Kolom</th>\n",
       "      <th>Tipe Data</th>\n",
       "      <th>Jumlah Unik</th>\n",
       "      <th>Missing Values</th>\n",
       "      <th>Contoh Nilai</th>\n",
       "    </tr>\n",
       "  </thead>\n",
       "  <tbody>\n",
       "    <tr>\n",
       "      <th>0</th>\n",
       "      <td>invoice_no</td>\n",
       "      <td>object</td>\n",
       "      <td>99457</td>\n",
       "      <td>0</td>\n",
       "      <td>[I138884, I317333, I127801]</td>\n",
       "    </tr>\n",
       "    <tr>\n",
       "      <th>1</th>\n",
       "      <td>customer_id</td>\n",
       "      <td>object</td>\n",
       "      <td>99457</td>\n",
       "      <td>0</td>\n",
       "      <td>[C241288, C111565, C266599]</td>\n",
       "    </tr>\n",
       "    <tr>\n",
       "      <th>2</th>\n",
       "      <td>gender</td>\n",
       "      <td>object</td>\n",
       "      <td>2</td>\n",
       "      <td>0</td>\n",
       "      <td>[Female, Male]</td>\n",
       "    </tr>\n",
       "    <tr>\n",
       "      <th>3</th>\n",
       "      <td>age</td>\n",
       "      <td>int64</td>\n",
       "      <td>52</td>\n",
       "      <td>0</td>\n",
       "      <td>[28, 21, 20]</td>\n",
       "    </tr>\n",
       "    <tr>\n",
       "      <th>4</th>\n",
       "      <td>category</td>\n",
       "      <td>object</td>\n",
       "      <td>8</td>\n",
       "      <td>0</td>\n",
       "      <td>[Clothing, Shoes, Books]</td>\n",
       "    </tr>\n",
       "    <tr>\n",
       "      <th>5</th>\n",
       "      <td>quantity</td>\n",
       "      <td>int64</td>\n",
       "      <td>5</td>\n",
       "      <td>0</td>\n",
       "      <td>[5, 3, 1]</td>\n",
       "    </tr>\n",
       "    <tr>\n",
       "      <th>6</th>\n",
       "      <td>price</td>\n",
       "      <td>float64</td>\n",
       "      <td>40</td>\n",
       "      <td>0</td>\n",
       "      <td>[1500.4, 1800.51, 300.08]</td>\n",
       "    </tr>\n",
       "    <tr>\n",
       "      <th>7</th>\n",
       "      <td>payment_method</td>\n",
       "      <td>object</td>\n",
       "      <td>3</td>\n",
       "      <td>0</td>\n",
       "      <td>[Credit Card, Debit Card, Cash]</td>\n",
       "    </tr>\n",
       "    <tr>\n",
       "      <th>8</th>\n",
       "      <td>invoice_date</td>\n",
       "      <td>object</td>\n",
       "      <td>797</td>\n",
       "      <td>0</td>\n",
       "      <td>[5/8/2022, 12/12/2021, 9/11/2021]</td>\n",
       "    </tr>\n",
       "    <tr>\n",
       "      <th>9</th>\n",
       "      <td>shopping_mall</td>\n",
       "      <td>object</td>\n",
       "      <td>10</td>\n",
       "      <td>0</td>\n",
       "      <td>[Kanyon, Forum Istanbul, Metrocity]</td>\n",
       "    </tr>\n",
       "  </tbody>\n",
       "</table>\n",
       "</div>"
      ],
      "text/plain": [
       "       Nama Kolom Tipe Data  Jumlah Unik  Missing Values  \\\n",
       "0      invoice_no    object        99457               0   \n",
       "1     customer_id    object        99457               0   \n",
       "2          gender    object            2               0   \n",
       "3             age     int64           52               0   \n",
       "4        category    object            8               0   \n",
       "5        quantity     int64            5               0   \n",
       "6           price   float64           40               0   \n",
       "7  payment_method    object            3               0   \n",
       "8    invoice_date    object          797               0   \n",
       "9   shopping_mall    object           10               0   \n",
       "\n",
       "                          Contoh Nilai  \n",
       "0          [I138884, I317333, I127801]  \n",
       "1          [C241288, C111565, C266599]  \n",
       "2                       [Female, Male]  \n",
       "3                         [28, 21, 20]  \n",
       "4             [Clothing, Shoes, Books]  \n",
       "5                            [5, 3, 1]  \n",
       "6            [1500.4, 1800.51, 300.08]  \n",
       "7      [Credit Card, Debit Card, Cash]  \n",
       "8    [5/8/2022, 12/12/2021, 9/11/2021]  \n",
       "9  [Kanyon, Forum Istanbul, Metrocity]  "
      ]
     },
     "execution_count": 3,
     "metadata": {},
     "output_type": "execute_result"
    }
   ],
   "source": [
    "# Buat dataframe ringkasan informasi\n",
    "info_df = pd.DataFrame({\n",
    "    'Nama Kolom': df.columns,\n",
    "    'Tipe Data': df.dtypes.values,\n",
    "    'Jumlah Unik': [df[col].nunique() for col in df.columns],\n",
    "    'Missing Values': df.isnull().sum().values,\n",
    "    'Contoh Nilai': [df[col].dropna().unique()[:3] for col in df.columns]\n",
    "})\n",
    "\n",
    "# Tampilkan tabel informasi\n",
    "info_df\n"
   ]
  },
  {
   "cell_type": "code",
   "execution_count": 4,
   "id": "a5deff36",
   "metadata": {},
   "outputs": [
    {
     "data": {
      "text/plain": [
       "invoice_no        0\n",
       "customer_id       0\n",
       "gender            0\n",
       "age               0\n",
       "category          0\n",
       "quantity          0\n",
       "price             0\n",
       "payment_method    0\n",
       "invoice_date      0\n",
       "shopping_mall     0\n",
       "dtype: int64"
      ]
     },
     "execution_count": 4,
     "metadata": {},
     "output_type": "execute_result"
    }
   ],
   "source": [
    "df.isna().sum()"
   ]
  },
  {
   "cell_type": "code",
   "execution_count": 5,
   "id": "72dab49c",
   "metadata": {},
   "outputs": [
    {
     "data": {
      "text/plain": [
       "0"
      ]
     },
     "execution_count": 5,
     "metadata": {},
     "output_type": "execute_result"
    }
   ],
   "source": [
    "df.duplicated().sum()"
   ]
  },
  {
   "cell_type": "code",
   "execution_count": 6,
   "id": "45aa7751",
   "metadata": {},
   "outputs": [
    {
     "data": {
      "text/html": [
       "<div>\n",
       "<style scoped>\n",
       "    .dataframe tbody tr th:only-of-type {\n",
       "        vertical-align: middle;\n",
       "    }\n",
       "\n",
       "    .dataframe tbody tr th {\n",
       "        vertical-align: top;\n",
       "    }\n",
       "\n",
       "    .dataframe thead th {\n",
       "        text-align: right;\n",
       "    }\n",
       "</style>\n",
       "<table border=\"1\" class=\"dataframe\">\n",
       "  <thead>\n",
       "    <tr style=\"text-align: right;\">\n",
       "      <th></th>\n",
       "      <th>age</th>\n",
       "      <th>quantity</th>\n",
       "      <th>price</th>\n",
       "    </tr>\n",
       "  </thead>\n",
       "  <tbody>\n",
       "    <tr>\n",
       "      <th>count</th>\n",
       "      <td>99457.00</td>\n",
       "      <td>99457.00</td>\n",
       "      <td>99457.00</td>\n",
       "    </tr>\n",
       "    <tr>\n",
       "      <th>mean</th>\n",
       "      <td>43.43</td>\n",
       "      <td>3.00</td>\n",
       "      <td>689.26</td>\n",
       "    </tr>\n",
       "    <tr>\n",
       "      <th>std</th>\n",
       "      <td>14.99</td>\n",
       "      <td>1.41</td>\n",
       "      <td>941.18</td>\n",
       "    </tr>\n",
       "    <tr>\n",
       "      <th>min</th>\n",
       "      <td>18.00</td>\n",
       "      <td>1.00</td>\n",
       "      <td>5.23</td>\n",
       "    </tr>\n",
       "    <tr>\n",
       "      <th>25%</th>\n",
       "      <td>30.00</td>\n",
       "      <td>2.00</td>\n",
       "      <td>45.45</td>\n",
       "    </tr>\n",
       "    <tr>\n",
       "      <th>50%</th>\n",
       "      <td>43.00</td>\n",
       "      <td>3.00</td>\n",
       "      <td>203.30</td>\n",
       "    </tr>\n",
       "    <tr>\n",
       "      <th>75%</th>\n",
       "      <td>56.00</td>\n",
       "      <td>4.00</td>\n",
       "      <td>1200.32</td>\n",
       "    </tr>\n",
       "    <tr>\n",
       "      <th>max</th>\n",
       "      <td>69.00</td>\n",
       "      <td>5.00</td>\n",
       "      <td>5250.00</td>\n",
       "    </tr>\n",
       "  </tbody>\n",
       "</table>\n",
       "</div>"
      ],
      "text/plain": [
       "           age  quantity    price\n",
       "count 99457.00  99457.00 99457.00\n",
       "mean     43.43      3.00   689.26\n",
       "std      14.99      1.41   941.18\n",
       "min      18.00      1.00     5.23\n",
       "25%      30.00      2.00    45.45\n",
       "50%      43.00      3.00   203.30\n",
       "75%      56.00      4.00  1200.32\n",
       "max      69.00      5.00  5250.00"
      ]
     },
     "execution_count": 6,
     "metadata": {},
     "output_type": "execute_result"
    }
   ],
   "source": [
    "df.describe()"
   ]
  },
  {
   "cell_type": "code",
   "execution_count": 7,
   "id": "97a5e585",
   "metadata": {},
   "outputs": [
    {
     "data": {
      "text/plain": [
       "99457"
      ]
     },
     "execution_count": 7,
     "metadata": {},
     "output_type": "execute_result"
    }
   ],
   "source": [
    "df['customer_id'].nunique()"
   ]
  },
  {
   "cell_type": "code",
   "execution_count": 8,
   "id": "688c834c",
   "metadata": {},
   "outputs": [
    {
     "data": {
      "text/plain": [
       "customer_id\n",
       "C241288    1\n",
       "C116138    1\n",
       "C382765    1\n",
       "C285074    1\n",
       "C405356    1\n",
       "          ..\n",
       "C220083    1\n",
       "C286933    1\n",
       "C301304    1\n",
       "C214184    1\n",
       "C273973    1\n",
       "Name: count, Length: 99457, dtype: int64"
      ]
     },
     "execution_count": 8,
     "metadata": {},
     "output_type": "execute_result"
    }
   ],
   "source": [
    "df['customer_id'].value_counts()"
   ]
  },
  {
   "cell_type": "code",
   "execution_count": 9,
   "id": "28dc16e6",
   "metadata": {},
   "outputs": [
    {
     "data": {
      "text/plain": [
       "99457"
      ]
     },
     "execution_count": 9,
     "metadata": {},
     "output_type": "execute_result"
    }
   ],
   "source": [
    "df['invoice_no'].nunique()"
   ]
  },
  {
   "cell_type": "code",
   "execution_count": 10,
   "id": "2e14dd18",
   "metadata": {},
   "outputs": [
    {
     "data": {
      "text/plain": [
       "invoice_no\n",
       "I138884    1\n",
       "I291671    1\n",
       "I175779    1\n",
       "I226143    1\n",
       "I683818    1\n",
       "          ..\n",
       "I319287    1\n",
       "I173400    1\n",
       "I828064    1\n",
       "I194850    1\n",
       "I232867    1\n",
       "Name: count, Length: 99457, dtype: int64"
      ]
     },
     "execution_count": 10,
     "metadata": {},
     "output_type": "execute_result"
    }
   ],
   "source": [
    "df['invoice_no'].value_counts()"
   ]
  },
  {
   "cell_type": "code",
   "execution_count": 11,
   "id": "a9c0d585",
   "metadata": {},
   "outputs": [
    {
     "data": {
      "text/plain": [
       "797"
      ]
     },
     "execution_count": 11,
     "metadata": {},
     "output_type": "execute_result"
    }
   ],
   "source": [
    "df['invoice_date'].nunique()"
   ]
  },
  {
   "cell_type": "code",
   "execution_count": 12,
   "id": "07b8f972",
   "metadata": {},
   "outputs": [
    {
     "data": {
      "text/plain": [
       "invoice_date\n",
       "24/11/2021    159\n",
       "26/02/2023    156\n",
       "6/1/2021      155\n",
       "25/07/2022    155\n",
       "23/10/2022    155\n",
       "             ... \n",
       "27/10/2021     98\n",
       "29/05/2021     98\n",
       "30/09/2021     96\n",
       "2/12/2021      94\n",
       "16/01/2022     93\n",
       "Name: count, Length: 797, dtype: int64"
      ]
     },
     "execution_count": 12,
     "metadata": {},
     "output_type": "execute_result"
    }
   ],
   "source": [
    "df['invoice_date'].value_counts()"
   ]
  },
  {
   "cell_type": "code",
   "execution_count": 13,
   "id": "46365280",
   "metadata": {},
   "outputs": [
    {
     "data": {
      "text/plain": [
       "shopping_mall\n",
       "Mall of Istanbul     19943\n",
       "Kanyon               19823\n",
       "Metrocity            15011\n",
       "Metropol AVM         10161\n",
       "Istinye Park          9781\n",
       "Zorlu Center          5075\n",
       "Cevahir AVM           4991\n",
       "Forum Istanbul        4947\n",
       "Viaport Outlet        4914\n",
       "Emaar Square Mall     4811\n",
       "Name: count, dtype: int64"
      ]
     },
     "execution_count": 13,
     "metadata": {},
     "output_type": "execute_result"
    }
   ],
   "source": [
    "df['shopping_mall'].value_counts()"
   ]
  },
  {
   "cell_type": "code",
   "execution_count": 14,
   "id": "e13d603f",
   "metadata": {},
   "outputs": [
    {
     "data": {
      "text/plain": [
       "category\n",
       "Clothing           34487\n",
       "Cosmetics          15097\n",
       "Food & Beverage    14776\n",
       "Toys               10087\n",
       "Shoes              10034\n",
       "Souvenir            4999\n",
       "Technology          4996\n",
       "Books               4981\n",
       "Name: count, dtype: int64"
      ]
     },
     "execution_count": 14,
     "metadata": {},
     "output_type": "execute_result"
    }
   ],
   "source": [
    "df['category'].value_counts()"
   ]
  },
  {
   "cell_type": "code",
   "execution_count": 15,
   "id": "cc6c7cbb",
   "metadata": {},
   "outputs": [
    {
     "data": {
      "text/plain": [
       "payment_method\n",
       "Cash           44447\n",
       "Credit Card    34931\n",
       "Debit Card     20079\n",
       "Name: count, dtype: int64"
      ]
     },
     "execution_count": 15,
     "metadata": {},
     "output_type": "execute_result"
    }
   ],
   "source": [
    "df['payment_method'].value_counts()"
   ]
  },
  {
   "cell_type": "code",
   "execution_count": 16,
   "id": "661aa117",
   "metadata": {},
   "outputs": [
    {
     "data": {
      "text/html": [
       "<div>\n",
       "<style scoped>\n",
       "    .dataframe tbody tr th:only-of-type {\n",
       "        vertical-align: middle;\n",
       "    }\n",
       "\n",
       "    .dataframe tbody tr th {\n",
       "        vertical-align: top;\n",
       "    }\n",
       "\n",
       "    .dataframe thead th {\n",
       "        text-align: right;\n",
       "    }\n",
       "</style>\n",
       "<table border=\"1\" class=\"dataframe\">\n",
       "  <thead>\n",
       "    <tr style=\"text-align: right;\">\n",
       "      <th></th>\n",
       "      <th>invoice_no</th>\n",
       "      <th>customer_id</th>\n",
       "      <th>gender</th>\n",
       "      <th>age</th>\n",
       "      <th>category</th>\n",
       "      <th>quantity</th>\n",
       "      <th>price</th>\n",
       "      <th>payment_method</th>\n",
       "      <th>invoice_date</th>\n",
       "      <th>shopping_mall</th>\n",
       "      <th>total_spend</th>\n",
       "    </tr>\n",
       "  </thead>\n",
       "  <tbody>\n",
       "    <tr>\n",
       "      <th>0</th>\n",
       "      <td>I138884</td>\n",
       "      <td>C241288</td>\n",
       "      <td>Female</td>\n",
       "      <td>28</td>\n",
       "      <td>Clothing</td>\n",
       "      <td>5</td>\n",
       "      <td>1500.40</td>\n",
       "      <td>Credit Card</td>\n",
       "      <td>5/8/2022</td>\n",
       "      <td>Kanyon</td>\n",
       "      <td>7502.00</td>\n",
       "    </tr>\n",
       "    <tr>\n",
       "      <th>1</th>\n",
       "      <td>I317333</td>\n",
       "      <td>C111565</td>\n",
       "      <td>Male</td>\n",
       "      <td>21</td>\n",
       "      <td>Shoes</td>\n",
       "      <td>3</td>\n",
       "      <td>1800.51</td>\n",
       "      <td>Debit Card</td>\n",
       "      <td>12/12/2021</td>\n",
       "      <td>Forum Istanbul</td>\n",
       "      <td>5401.53</td>\n",
       "    </tr>\n",
       "    <tr>\n",
       "      <th>2</th>\n",
       "      <td>I127801</td>\n",
       "      <td>C266599</td>\n",
       "      <td>Male</td>\n",
       "      <td>20</td>\n",
       "      <td>Clothing</td>\n",
       "      <td>1</td>\n",
       "      <td>300.08</td>\n",
       "      <td>Cash</td>\n",
       "      <td>9/11/2021</td>\n",
       "      <td>Metrocity</td>\n",
       "      <td>300.08</td>\n",
       "    </tr>\n",
       "    <tr>\n",
       "      <th>3</th>\n",
       "      <td>I173702</td>\n",
       "      <td>C988172</td>\n",
       "      <td>Female</td>\n",
       "      <td>66</td>\n",
       "      <td>Shoes</td>\n",
       "      <td>5</td>\n",
       "      <td>3000.85</td>\n",
       "      <td>Credit Card</td>\n",
       "      <td>16/05/2021</td>\n",
       "      <td>Metropol AVM</td>\n",
       "      <td>15004.25</td>\n",
       "    </tr>\n",
       "    <tr>\n",
       "      <th>4</th>\n",
       "      <td>I337046</td>\n",
       "      <td>C189076</td>\n",
       "      <td>Female</td>\n",
       "      <td>53</td>\n",
       "      <td>Books</td>\n",
       "      <td>4</td>\n",
       "      <td>60.60</td>\n",
       "      <td>Cash</td>\n",
       "      <td>24/10/2021</td>\n",
       "      <td>Kanyon</td>\n",
       "      <td>242.40</td>\n",
       "    </tr>\n",
       "    <tr>\n",
       "      <th>...</th>\n",
       "      <td>...</td>\n",
       "      <td>...</td>\n",
       "      <td>...</td>\n",
       "      <td>...</td>\n",
       "      <td>...</td>\n",
       "      <td>...</td>\n",
       "      <td>...</td>\n",
       "      <td>...</td>\n",
       "      <td>...</td>\n",
       "      <td>...</td>\n",
       "      <td>...</td>\n",
       "    </tr>\n",
       "    <tr>\n",
       "      <th>99452</th>\n",
       "      <td>I219422</td>\n",
       "      <td>C441542</td>\n",
       "      <td>Female</td>\n",
       "      <td>45</td>\n",
       "      <td>Souvenir</td>\n",
       "      <td>5</td>\n",
       "      <td>58.65</td>\n",
       "      <td>Credit Card</td>\n",
       "      <td>21/09/2022</td>\n",
       "      <td>Kanyon</td>\n",
       "      <td>293.25</td>\n",
       "    </tr>\n",
       "    <tr>\n",
       "      <th>99453</th>\n",
       "      <td>I325143</td>\n",
       "      <td>C569580</td>\n",
       "      <td>Male</td>\n",
       "      <td>27</td>\n",
       "      <td>Food &amp; Beverage</td>\n",
       "      <td>2</td>\n",
       "      <td>10.46</td>\n",
       "      <td>Cash</td>\n",
       "      <td>22/09/2021</td>\n",
       "      <td>Forum Istanbul</td>\n",
       "      <td>20.92</td>\n",
       "    </tr>\n",
       "    <tr>\n",
       "      <th>99454</th>\n",
       "      <td>I824010</td>\n",
       "      <td>C103292</td>\n",
       "      <td>Male</td>\n",
       "      <td>63</td>\n",
       "      <td>Food &amp; Beverage</td>\n",
       "      <td>2</td>\n",
       "      <td>10.46</td>\n",
       "      <td>Debit Card</td>\n",
       "      <td>28/03/2021</td>\n",
       "      <td>Metrocity</td>\n",
       "      <td>20.92</td>\n",
       "    </tr>\n",
       "    <tr>\n",
       "      <th>99455</th>\n",
       "      <td>I702964</td>\n",
       "      <td>C800631</td>\n",
       "      <td>Male</td>\n",
       "      <td>56</td>\n",
       "      <td>Technology</td>\n",
       "      <td>4</td>\n",
       "      <td>4200.00</td>\n",
       "      <td>Cash</td>\n",
       "      <td>16/03/2021</td>\n",
       "      <td>Istinye Park</td>\n",
       "      <td>16800.00</td>\n",
       "    </tr>\n",
       "    <tr>\n",
       "      <th>99456</th>\n",
       "      <td>I232867</td>\n",
       "      <td>C273973</td>\n",
       "      <td>Female</td>\n",
       "      <td>36</td>\n",
       "      <td>Souvenir</td>\n",
       "      <td>3</td>\n",
       "      <td>35.19</td>\n",
       "      <td>Credit Card</td>\n",
       "      <td>15/10/2022</td>\n",
       "      <td>Mall of Istanbul</td>\n",
       "      <td>105.57</td>\n",
       "    </tr>\n",
       "  </tbody>\n",
       "</table>\n",
       "<p>99457 rows × 11 columns</p>\n",
       "</div>"
      ],
      "text/plain": [
       "      invoice_no customer_id  gender  age         category  quantity   price  \\\n",
       "0        I138884     C241288  Female   28         Clothing         5 1500.40   \n",
       "1        I317333     C111565    Male   21            Shoes         3 1800.51   \n",
       "2        I127801     C266599    Male   20         Clothing         1  300.08   \n",
       "3        I173702     C988172  Female   66            Shoes         5 3000.85   \n",
       "4        I337046     C189076  Female   53            Books         4   60.60   \n",
       "...          ...         ...     ...  ...              ...       ...     ...   \n",
       "99452    I219422     C441542  Female   45         Souvenir         5   58.65   \n",
       "99453    I325143     C569580    Male   27  Food & Beverage         2   10.46   \n",
       "99454    I824010     C103292    Male   63  Food & Beverage         2   10.46   \n",
       "99455    I702964     C800631    Male   56       Technology         4 4200.00   \n",
       "99456    I232867     C273973  Female   36         Souvenir         3   35.19   \n",
       "\n",
       "      payment_method invoice_date     shopping_mall  total_spend  \n",
       "0        Credit Card     5/8/2022            Kanyon      7502.00  \n",
       "1         Debit Card   12/12/2021    Forum Istanbul      5401.53  \n",
       "2               Cash    9/11/2021         Metrocity       300.08  \n",
       "3        Credit Card   16/05/2021      Metropol AVM     15004.25  \n",
       "4               Cash   24/10/2021            Kanyon       242.40  \n",
       "...              ...          ...               ...          ...  \n",
       "99452    Credit Card   21/09/2022            Kanyon       293.25  \n",
       "99453           Cash   22/09/2021    Forum Istanbul        20.92  \n",
       "99454     Debit Card   28/03/2021         Metrocity        20.92  \n",
       "99455           Cash   16/03/2021      Istinye Park     16800.00  \n",
       "99456    Credit Card   15/10/2022  Mall of Istanbul       105.57  \n",
       "\n",
       "[99457 rows x 11 columns]"
      ]
     },
     "execution_count": 16,
     "metadata": {},
     "output_type": "execute_result"
    }
   ],
   "source": [
    "df['total_spend'] = df['quantity'] * df['price']\n",
    "df"
   ]
  },
  {
   "cell_type": "code",
   "execution_count": 17,
   "id": "ef23a8b5",
   "metadata": {},
   "outputs": [],
   "source": [
    "df.to_csv('customer_shopping_data_clean.csv', index=False)"
   ]
  },
  {
   "cell_type": "markdown",
   "id": "4b4dc849",
   "metadata": {},
   "source": [
    "---"
   ]
  },
  {
   "cell_type": "markdown",
   "id": "22eb525b",
   "metadata": {},
   "source": [
    "# **Exploratory Data Analyst**"
   ]
  },
  {
   "cell_type": "markdown",
   "id": "209256b6",
   "metadata": {},
   "source": [
    "### Analisis Outlier"
   ]
  },
  {
   "cell_type": "code",
   "execution_count": 18,
   "id": "02733926",
   "metadata": {},
   "outputs": [
    {
     "data": {
      "image/png": "[encoded data removed]",
      "text/plain": [
       "<Figure size 1400x800 with 4 Axes>"
      ]
     },
     "metadata": {},
     "output_type": "display_data"
    }
   ],
   "source": [
    "import matplotlib.pyplot as plt\n",
    "import seaborn as sns\n",
    "\n",
    "# Kolom numerik yang relevan\n",
    "num_cols = ['age', 'quantity', 'price', 'total_spend']\n",
    "\n",
    "# Boxplot\n",
    "plt.figure(figsize=(14, 8))\n",
    "for i, col in enumerate(num_cols, 1):\n",
    "    plt.subplot(2, 2, i)\n",
    "    sns.boxplot(x=df[col], color='salmon')\n",
    "    plt.title(f'Outlier pada Kolom: {col}')\n",
    "plt.tight_layout()\n",
    "plt.show()\n"
   ]
  },
  {
   "cell_type": "code",
   "execution_count": 19,
   "id": "60738c90",
   "metadata": {},
   "outputs": [
    {
     "data": {
      "text/html": [
       "<div>\n",
       "<style scoped>\n",
       "    .dataframe tbody tr th:only-of-type {\n",
       "        vertical-align: middle;\n",
       "    }\n",
       "\n",
       "    .dataframe tbody tr th {\n",
       "        vertical-align: top;\n",
       "    }\n",
       "\n",
       "    .dataframe thead th {\n",
       "        text-align: right;\n",
       "    }\n",
       "</style>\n",
       "<table border=\"1\" class=\"dataframe\">\n",
       "  <thead>\n",
       "    <tr style=\"text-align: right;\">\n",
       "      <th></th>\n",
       "      <th>Kolom</th>\n",
       "      <th>Jumlah Outlier</th>\n",
       "      <th>Total Data</th>\n",
       "      <th>Persentase Outlier (%)</th>\n",
       "    </tr>\n",
       "  </thead>\n",
       "  <tbody>\n",
       "    <tr>\n",
       "      <th>age</th>\n",
       "      <td>age</td>\n",
       "      <td>0</td>\n",
       "      <td>99457</td>\n",
       "      <td>0.00</td>\n",
       "    </tr>\n",
       "    <tr>\n",
       "      <th>quantity</th>\n",
       "      <td>quantity</td>\n",
       "      <td>0</td>\n",
       "      <td>99457</td>\n",
       "      <td>0.00</td>\n",
       "    </tr>\n",
       "    <tr>\n",
       "      <th>price</th>\n",
       "      <td>price</td>\n",
       "      <td>2002</td>\n",
       "      <td>99457</td>\n",
       "      <td>2.01</td>\n",
       "    </tr>\n",
       "    <tr>\n",
       "      <th>total_spend</th>\n",
       "      <td>total_spend</td>\n",
       "      <td>2002</td>\n",
       "      <td>99457</td>\n",
       "      <td>2.01</td>\n",
       "    </tr>\n",
       "  </tbody>\n",
       "</table>\n",
       "</div>"
      ],
      "text/plain": [
       "                   Kolom  Jumlah Outlier  Total Data  Persentase Outlier (%)\n",
       "age                  age               0       99457                    0.00\n",
       "quantity        quantity               0       99457                    0.00\n",
       "price              price            2002       99457                    2.01\n",
       "total_spend  total_spend            2002       99457                    2.01"
      ]
     },
     "execution_count": 19,
     "metadata": {},
     "output_type": "execute_result"
    }
   ],
   "source": [
    "from scipy.stats import zscore\n",
    "\n",
    "# Hitung z-score untuk setiap kolom numerik\n",
    "z_scores = np.abs(zscore(df[num_cols]))\n",
    "\n",
    "# Threshold z > 3 → outlier\n",
    "outlier_flags = z_scores > 3\n",
    "\n",
    "# Rekapitulasi jumlah outlier\n",
    "outlier_summary = pd.DataFrame({\n",
    "    'Kolom': num_cols,\n",
    "    'Jumlah Outlier': outlier_flags.sum(axis=0),\n",
    "    'Total Data': len(df),\n",
    "    'Persentase Outlier (%)': (outlier_flags.sum(axis=0) / len(df) * 100).round(2)\n",
    "})\n",
    "outlier_summary\n"
   ]
  },
  {
   "cell_type": "markdown",
   "id": "3bbaddb7",
   "metadata": {},
   "source": [
    "| Kolom            | Insight Bisnis dari Outlier                                                                      |\n",
    "| ---------------- | ------------------------------------------------------------------------------------------------ |\n",
    "| **age**          | Outlier menunjukkan pelanggan yang sangat muda atau sangat tua – insight demografi ekstrem.      |\n",
    "| **quantity**     | Jumlah barang sangat besar bisa berarti pembelian grosir atau kebutuhan bisnis.                  |\n",
    "| **price**        | Produk dengan harga sangat tinggi bisa menunjukkan barang eksklusif / premium.                   |\n",
    "| **total\\_spend** | Transaksi dengan total sangat tinggi perlu dicermati — bisa pelanggan VIP atau potensi penipuan. |\n"
   ]
  },
  {
   "cell_type": "markdown",
   "id": "8cde27f1",
   "metadata": {},
   "source": [
    "### Analisis Korelasi Heatmap"
   ]
  },
  {
   "cell_type": "code",
   "execution_count": 20,
   "id": "d0a569cd",
   "metadata": {},
   "outputs": [
    {
     "name": "stdout",
     "output_type": "stream",
     "text": [
      "Matriks Korelasi:\n",
      "             age  quantity  price  total_spend\n",
      "age         1.00      0.00   0.00         0.00\n",
      "quantity    0.00      1.00   0.34         0.46\n",
      "price       0.00      0.34   1.00         0.96\n",
      "total_spend 0.00      0.46   0.96         1.00\n"
     ]
    },
    {
     "data": {
      "image/png": "[encoded data removed]",
      "text/plain": [
       "<Figure size 800x600 with 2 Axes>"
      ]
     },
     "metadata": {},
     "output_type": "display_data"
    }
   ],
   "source": [
    "# Pilih hanya kolom numerik untuk korelasi\n",
    "numeric_cols = ['age', 'quantity', 'price', 'total_spend']\n",
    "numeric_df = df[numeric_cols]\n",
    "\n",
    "# Hitung matriks korelasi\n",
    "corr_matrix = numeric_df.corr()\n",
    "\n",
    "# Tampilkan matriks korelasi\n",
    "print(\"Matriks Korelasi:\")\n",
    "print(corr_matrix)\n",
    "\n",
    "# Plot heatmap\n",
    "plt.figure(figsize=(8, 6))\n",
    "sns.heatmap(corr_matrix, annot=True, cmap='coolwarm', fmt=\".2f\", linewidths=0.5)\n",
    "plt.title(\"Heatmap Korelasi Antar Fitur Numerik\")\n",
    "plt.show()\n"
   ]
  },
  {
   "cell_type": "markdown",
   "id": "61c114d2",
   "metadata": {},
   "source": [
    "## Interpretasi Heatmap Korelasi\n",
    "\n",
    "### Ringkasan Korelasi Antar Fitur Numerik\n",
    "\n",
    "| Fitur 1      | Fitur 2      | Korelasi | Interpretasi                                                                 |\n",
    "|--------------|--------------|----------|-------------------------------------------------------------------------------|\n",
    "| `price`      | `total_spend`| **0.96** | Korelasi sangat kuat. Semakin tinggi harga produk, semakin tinggi total belanja. |\n",
    "| `quantity`   | `total_spend`| **0.46** | Korelasi sedang. Pembelian dalam jumlah besar cukup berkontribusi terhadap total transaksi. |\n",
    "| `quantity`   | `price`      | **0.34** | Korelasi lemah-positif. Produk mahal sedikit lebih sering dibeli dalam jumlah besar. |\n",
    "| `age`        | Fitur lain   | ~0.00    | Hampir tidak ada korelasi. Umur pelanggan tidak memengaruhi pola pembelian.    |\n",
    "\n",
    "---\n",
    "\n",
    "### Insight Bisnis\n",
    "\n",
    "-  **Harga produk** merupakan faktor paling berpengaruh terhadap total nilai transaksi.\n",
    "-  **Jumlah barang yang dibeli (quantity)** juga berdampak, namun pengaruhnya tidak sebesar harga satuan.\n",
    "-  **Usia pelanggan tidak berkorelasi** dengan pembelian, menunjukkan bahwa strategi pemasaran tidak perlu terlalu fokus pada segmentasi umur.\n",
    "-  Fokuskan strategi upselling pada produk dengan harga tinggi untuk meningkatkan nilai transaksi.\n",
    "\n",
    "---\n",
    "\n",
    ">  Rekomendasi: Gunakan hasil korelasi ini untuk memperkuat strategi pricing dan identifikasi pelanggan high-value berdasarkan kombinasi quantity dan price.\n"
   ]
  },
  {
   "cell_type": "markdown",
   "id": "a0f6f9b8",
   "metadata": {},
   "source": [
    "### **Top 10 Product Categories by Total Spend**"
   ]
  },
  {
   "cell_type": "code",
   "execution_count": 21,
   "id": "558e13c0",
   "metadata": {},
   "outputs": [
    {
     "data": {
      "image/png": "[encoded data removed]",
      "text/plain": [
       "<Figure size 1000x600 with 1 Axes>"
      ]
     },
     "metadata": {},
     "output_type": "display_data"
    }
   ],
   "source": [
    "top_categories = df.groupby('category')['total_spend'].sum().sort_values(ascending=False).head(10)\n",
    "\n",
    "plt.figure(figsize=(10, 6))\n",
    "sns.barplot(x=top_categories.values, y=top_categories.index, palette='viridis')\n",
    "plt.title('Top 10 Product Categories by Total Spend')\n",
    "plt.xlabel('Total Spend (USD)')\n",
    "plt.ylabel('Category')\n",
    "plt.tight_layout()\n",
    "plt.show()\n"
   ]
  },
  {
   "cell_type": "markdown",
   "id": "e9cbafcc",
   "metadata": {},
   "source": [
    "### Interpretasi Visualisasi: Top 10 Product Categories by Total Spend\n",
    "\n",
    "Visualisasi ini menampilkan 10 kategori produk dengan total pengeluaran tertinggi oleh konsumen (Total Spend dalam USD).\n",
    "\n",
    "#### Insight Utama:\n",
    "- **Clothing (Pakaian)** menjadi kategori dengan total pengeluaran tertinggi, menunjukkan dominasi dalam kontribusi pendapatan.\n",
    "- **Shoes (Sepatu)** dan **Technology (Teknologi)** berada di peringkat kedua dan ketiga, menandakan tingginya minat konsumen di sektor fashion dan elektronik.\n",
    "- Kategori seperti **Cosmetics**, **Toys**, dan **Food & Beverage** memiliki pengeluaran yang lebih kecil, namun masih masuk dalam 10 besar.\n",
    "- Kategori **Books** dan **Souvenir** memiliki total pengeluaran paling rendah, mengindikasikan rendahnya minat atau volume transaksi.\n",
    "\n",
    "#### Implikasi Bisnis:\n",
    "- **Fokus Strategis**: Perusahaan dapat memprioritaskan stok, promosi, dan strategi pemasaran untuk kategori pakaian, sepatu, dan teknologi.\n",
    "- **Efisiensi Kategori Rendah**: Perlu evaluasi terhadap kategori dengan performa rendah, apakah disebabkan oleh kurangnya promosi, segmentasi pasar yang sempit, atau faktor lainnya.\n",
    "- **Peluang Peningkatan**: Kategori terbawah bisa ditingkatkan dengan strategi seperti bundling, diskon musiman, atau kampanye khusus.\n",
    "\n",
    "#### Rekomendasi:\n",
    "- Lakukan analisis margin keuntungan untuk memastikan kategori dengan pengeluaran besar juga memberikan keuntungan maksimal.\n",
    "- Telusuri tren penjualan dari waktu ke waktu untuk mendeteksi pola musiman atau momentum khusus.\n",
    "- Gunakan segmentasi pelanggan untuk memahami siapa pembeli utama dari masing-masing kategori, agar promosi lebih tepat sasaran.\n"
   ]
  },
  {
   "cell_type": "markdown",
   "id": "06530e58",
   "metadata": {},
   "source": [
    "### **Monthly Sales Trend**"
   ]
  },
  {
   "cell_type": "code",
   "execution_count": 22,
   "id": "73be16b5",
   "metadata": {},
   "outputs": [
    {
     "data": {
      "image/png": "[encoded data removed]",
      "text/plain": [
       "<Figure size 1200x500 with 1 Axes>"
      ]
     },
     "metadata": {},
     "output_type": "display_data"
    }
   ],
   "source": [
    "df['invoice_date'] = pd.to_datetime(df['invoice_date'], dayfirst=True)\n",
    "daily_sales = df.groupby(df['invoice_date'].dt.to_period('M'))['total_spend'].sum()\n",
    "\n",
    "plt.figure(figsize=(12, 5))\n",
    "daily_sales.plot(marker='o', color='royalblue')\n",
    "plt.title('Monthly Sales Trend')\n",
    "plt.xlabel('Month')\n",
    "plt.ylabel('Total Spend (USD)')\n",
    "plt.grid(True)\n",
    "plt.xticks(rotation=45)\n",
    "plt.tight_layout()\n",
    "plt.show()\n"
   ]
  },
  {
   "cell_type": "markdown",
   "id": "478cdb20",
   "metadata": {},
   "source": [
    "### Interpretasi Visualisasi: Monthly Sales Trend\n",
    "\n",
    "Visualisasi ini menampilkan tren penjualan bulanan berdasarkan total pengeluaran konsumen (Total Spend) dari Januari 2021 hingga Januari 2023.\n",
    "\n",
    "#### Insight Utama:\n",
    "- Penjualan bulanan relatif stabil sepanjang periode, dengan total pengeluaran konsisten di kisaran **9 hingga 10 juta USD** per bulan.\n",
    "- Terdapat beberapa **puncak penjualan** signifikan, seperti pada bulan Juni 2021, September 2021, dan Oktober 2022.\n",
    "- Terdapat **penurunan tajam di Januari 2023**, yang kemungkinan besar disebabkan oleh data yang belum lengkap untuk bulan tersebut atau adanya faktor musiman/pelaporan.\n",
    "\n",
    "#### Pola yang Teridentifikasi:\n",
    "- Fluktuasi ringan terlihat secara periodik, namun tidak menunjukkan tren naik atau turun jangka panjang yang jelas.\n",
    "- Periode seperti Januari–Maret cenderung lebih rendah dibanding pertengahan tahun (Juni–September), yang bisa menunjukkan pola musiman.\n",
    "\n",
    "#### Implikasi Bisnis:\n",
    "- **Stabilitas Penjualan**: Menandakan bahwa strategi penjualan dan produk memiliki performa yang cukup konsisten.\n",
    "- **Peluang Optimalisasi Musiman**: Pola peningkatan di bulan-bulan tertentu dapat dimanfaatkan untuk kampanye promosi dan persediaan.\n",
    "- **Evaluasi Data Januari 2023**: Penting untuk memeriksa apakah data Januari 2023 sudah lengkap. Jika belum, perlu dikecualikan dari analisis agregat agar tidak menurunkan rata-rata secara keseluruhan.\n",
    "\n",
    "#### Rekomendasi:\n",
    "- Lakukan analisis lanjutan untuk mengidentifikasi penyebab fluktuasi tiap bulan, misalnya: event khusus, kampanye pemasaran, atau musim liburan.\n",
    "- Bandingkan tren ini dengan kategori produk untuk mengetahui kontribusi tiap kategori terhadap total penjualan bulanan.\n",
    "- Lakukan perbandingan year-over-year (YoY) untuk mengukur pertumbuhan dan kinerja tahunan secara objektif.\n"
   ]
  },
  {
   "cell_type": "markdown",
   "id": "5e2698d8",
   "metadata": {},
   "source": [
    "### **Customer Gender Distribution**"
   ]
  },
  {
   "cell_type": "code",
   "execution_count": 23,
   "id": "544c7ada",
   "metadata": {},
   "outputs": [
    {
     "data": {
      "image/png": "[encoded data removed]",
      "text/plain": [
       "<Figure size 600x400 with 1 Axes>"
      ]
     },
     "metadata": {},
     "output_type": "display_data"
    }
   ],
   "source": [
    "plt.figure(figsize=(6, 4))\n",
    "sns.countplot(data=df, x='gender', palette='pastel')\n",
    "plt.title('Customer Gender Distribution')\n",
    "plt.xlabel('Gender')\n",
    "plt.ylabel('Count')\n",
    "plt.tight_layout()\n",
    "plt.show()\n"
   ]
  },
  {
   "cell_type": "markdown",
   "id": "f4706cf4",
   "metadata": {},
   "source": [
    "### Interpretasi Visualisasi: Customer Gender Distribution\n",
    "\n",
    "Visualisasi ini menunjukkan distribusi jumlah pelanggan berdasarkan gender.\n",
    "\n",
    "#### Insight Utama:\n",
    "- Pelanggan perempuan (**Female**) mendominasi dengan jumlah lebih banyak dibandingkan pelanggan laki-laki (**Male**).\n",
    "- Terdapat sekitar **60.000 pelanggan perempuan** dan sekitar **40.000 pelanggan laki-laki**, menunjukkan selisih signifikan sekitar 20.000 pelanggan.\n",
    "\n",
    "#### Implikasi Bisnis:\n",
    "- **Strategi Pemasaran**: Karena mayoritas pelanggan adalah perempuan, strategi pemasaran, pemilihan produk, serta komunikasi brand dapat disesuaikan untuk lebih relevan dengan segmen ini.\n",
    "- **Peluang Ekspansi**: Perusahaan dapat mengeksplorasi pendekatan khusus untuk menarik l\n"
   ]
  },
  {
   "cell_type": "markdown",
   "id": "a5985dcf",
   "metadata": {},
   "source": [
    "### **Top 10 Shopping Malls by Revenue**"
   ]
  },
  {
   "cell_type": "code",
   "execution_count": 24,
   "id": "9ce7f722",
   "metadata": {},
   "outputs": [
    {
     "data": {
      "image/png": "[encoded data removed]",
      "text/plain": [
       "<Figure size 1000x600 with 1 Axes>"
      ]
     },
     "metadata": {},
     "output_type": "display_data"
    }
   ],
   "source": [
    "top_malls = df.groupby('shopping_mall')['total_spend'].sum().sort_values(ascending=False).head(10)\n",
    "\n",
    "plt.figure(figsize=(10, 6))\n",
    "sns.barplot(x=top_malls.values, y=top_malls.index, palette='magma')\n",
    "plt.title('Top 10 Shopping Malls by Revenue')\n",
    "plt.xlabel('Total Spend (USD)')\n",
    "plt.ylabel('Mall')\n",
    "plt.tight_layout()\n",
    "plt.show()\n"
   ]
  },
  {
   "cell_type": "markdown",
   "id": "fc938f97",
   "metadata": {},
   "source": [
    "### Interpretasi Visualisasi: Top 10 Shopping Malls by Revenue\n",
    "\n",
    "Visualisasi ini menunjukkan 10 pusat perbelanjaan (mall) dengan total pengeluaran (revenue) tertinggi dari pelanggan.\n",
    "\n",
    "#### Insight Utama:\n",
    "- **Mall of Istanbul** dan **Kanyon** menduduki dua posisi teratas dengan total pendapatan paling besar, masing-masing mendekati **50 juta USD**.\n",
    "- **Metrocity**, **Metropol AVM**, dan **Istinye Park** juga merupakan mall dengan kontribusi pendapatan signifikan, meskipun dengan selisih yang cukup mencolok dari dua teratas.\n",
    "- Mall lainnya seperti **Zorlu Center**, **Cevahir AVM**, **Viaport Outlet**, **Emaar Square Mall**, dan **Forum Istanbul** berada di peringkat bawah namun tetap masuk dalam 10 besar.\n",
    "\n",
    "#### Implikasi Bisnis:\n",
    "- **Mall of Istanbul & Kanyon** dapat dikategorikan sebagai lokasi strategis dengan potensi ROI tinggi bagi pelaku bisnis atau brand yang ingin membuka gerai.\n",
    "- Perbedaan revenue yang signifikan antar mall dapat disebabkan oleh faktor seperti lokasi, daya beli pengunjung, tenant mix, serta kualitas pengalaman berbelanja.\n",
    "- Mall di peringkat bawah tetap menunjukkan performa baik dan bisa jadi memiliki peluang pengembangan lebih lanjut dengan strategi yang tepat.\n",
    "\n",
    "#### Rekomendasi:\n",
    "- Lakukan analisis lebih lanjut terkait profil pelanggan pada tiap mall untuk memahami apa yang membuat Mall of Istanbul dan Kanyon unggul.\n",
    "- Evaluasi efektivitas kampanye pemasaran dan event di mall peringkat bawah untuk mendorong peningkatan revenue.\n",
    "- Pertimbangkan untuk menambah investasi (seperti gerai baru atau promosi khusus) pada mall dengan pertumbuhan potensial seperti Metrocity dan Istinye Park.\n",
    "\n"
   ]
  },
  {
   "cell_type": "markdown",
   "id": "e92829d7",
   "metadata": {},
   "source": [
    "### **Distribusi Penggunaan Metode Pembayaran oleh Pelanggan**"
   ]
  },
  {
   "cell_type": "code",
   "execution_count": 26,
   "id": "7db8f6b3",
   "metadata": {},
   "outputs": [
    {
     "data": {
      "image/png": "[encoded data removed]",
      "text/plain": [
       "<Figure size 800x500 with 1 Axes>"
      ]
     },
     "metadata": {},
     "output_type": "display_data"
    }
   ],
   "source": [
    "# Hitung jumlah transaksi per metode pembayaran\n",
    "payment_counts = df['payment_method'].value_counts().reset_index()\n",
    "payment_counts.columns = ['Payment Method', 'Transaction Count']\n",
    "\n",
    "# Visualisasi\n",
    "plt.figure(figsize=(8,5))\n",
    "sns.barplot(x='Payment Method', y='Transaction Count', data=payment_counts, palette='viridis')\n",
    "plt.title('Distribusi Penggunaan Metode Pembayaran oleh Pelanggan')\n",
    "plt.xlabel('Metode Pembayaran')\n",
    "plt.ylabel('Jumlah Transaksi')\n",
    "plt.xticks(rotation=0)\n",
    "plt.tight_layout()\n",
    "plt.show()"
   ]
  },
  {
   "cell_type": "markdown",
   "id": "9e290180",
   "metadata": {},
   "source": [
    "Cash paling banyak digunakan, diikuti Credit dan Debit.\n",
    "- Hal ini menunjukkan pelanggan masih nyaman menggunakan cash.\n",
    "- Rekomendasi: Pertimbangkan promosi untuk mendorong penggunaan debit/credit agar proses transaksi lebih cepat dan efisiensi kasir meningkat"
   ]
  },
  {
   "cell_type": "markdown",
   "id": "3bd7a1e5",
   "metadata": {},
   "source": [
    "---"
   ]
  },
  {
   "cell_type": "markdown",
   "id": "77a75b50",
   "metadata": {},
   "source": [
    "## **Kesimpulan**\n",
    "\n",
    "Analisis yang telah dilakukan berhasil menjawab pertanyaan utama yang telah ditetapkan di awal proyek, yaitu mengidentifikasi **kategori produk teratas, tren penjualan, segmentasi pelanggan, dan mall dengan performa terbaik**.\n",
    "\n",
    "- **Kategori Teratas:** Pakaian, Sepatu, dan Teknologi merupakan kategori dengan kontribusi revenue tertinggi, menunjukkan potensi fokus untuk promosi dan pengelolaan stok.\n",
    "- **Tren Penjualan:** Penjualan secara keseluruhan stabil dengan adanya peningkatan musiman, menjadi acuan untuk perencanaan inventori dan kampanye pemasaran musiman.\n",
    "- **Segmentasi Pelanggan:** Mayoritas pelanggan adalah perempuan dengan dominasi usia produktif, sehingga dapat menjadi target utama kampanye pemasaran yang lebih tertarget.\n",
    "- **Mall dengan Performa Terbaik:** Mall of Istanbul dan Kanyon menunjukkan performa penjualan terbaik, menjadi prioritas penguatan aktivitas penjualan dan promosi di lokasi tersebut.\n"
   ]
  },
  {
   "cell_type": "markdown",
   "id": "eae37976",
   "metadata": {},
   "source": [
    "## **Recommendation Ideas**\n",
    "\n",
    "- Kategori Teratas (Pakaian, Sepatu, Teknologi):\n",
    "Rekomendasi: Prioritaskan pengelolaan stok dan promosi pada kategori ini. Pertimbangkan untuk membuat paket bundling produk populer (misalnya ide premium coffee bundle) atau menonjolkan produk-produk ini dalam kampanye pemasaran. Lakukan analisis margin keuntungan pada kategori teratas ini untuk memastikan bahwa pendapatan tinggi juga memberikan keuntungan yang optimal.\n",
    "\n",
    "- Tren Penjualan dari Waktu ke Waktu:\n",
    "Rekomendasi: Rencanakan stok dan penjadwalan tenaga kerja berdasarkan periode puncak penjualan (misalnya pada saat libur atau event promosi). Selidiki penyebab kenaikan atau penurunan penjualan (event khusus, promosi) dan tiru kembali strategi yang sukses. Terapkan prakiraan penjualan secara rutin untuk mengantisipasi permintaan.\n",
    "\n",
    "- Demografi Pelanggan (lebih banyak perempuan, pola usia):\n",
    "Rekomendasi: Sesuaikan kampanye pemasaran dan pemilihan produk dengan segmen pelanggan dominan. Misalnya, karena pelanggan perempuan mencakup ~60% dari total pelanggan, rancang promosi dan lini produk yang menarik bagi pelanggan perempuan. Sesuaikan tata letak toko dan komunikasi pemasaran dengan profil pelanggan utama.\n",
    "\n",
    "- Mall dengan Performa Teratas (Mall of Istanbul, Kanyon, dll):\n",
    "Rekomendasi: Tingkatkan investasi pada lokasi dengan performa tinggi ini (misalnya dengan menambah anggaran iklan atau mencoba konsep pop-up store). Analisis profil pelanggan di setiap mall untuk memahami alasan mereka memiliki performa lebih baik. Untuk mall dengan pendapatan lebih rendah, analisis potensi masalah (lokasi, kompetisi) dan pertimbangkan promosi atau event khusus untuk meningkatkan penjualan.\n",
    "\n",
    "- Metode Pembayaran:\n",
    "Rekomendasi: Jika terdapat metode pembayaran yang dominan (misalnya kartu kredit), pastikan toko mendukung metode tersebut dengan lancar. Jika terdapat metode pembayaran yang kurang digunakan, pertimbangkan promosi (misalnya cashback atau poin loyalitas untuk debit) untuk mendorong penggunaannya."
   ]
  }
 ],
 "metadata": {
  "kernelspec": {
   "display_name": "base",
   "language": "python",
   "name": "python3"
  },
  "language_info": {
   "codemirror_mode": {
    "name": "ipython",
    "version": 3
   },
   "file_extension": ".py",
   "mimetype": "text/x-python",
   "name": "python",
   "nbconvert_exporter": "python",
   "pygments_lexer": "ipython3",
   "version": "3.12.7"
  }
 },
 "nbformat": 4,
 "nbformat_minor": 5
}
